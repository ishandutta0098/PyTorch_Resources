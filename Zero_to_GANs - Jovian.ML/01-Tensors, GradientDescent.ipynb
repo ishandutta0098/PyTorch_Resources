{
  "nbformat": 4,
  "nbformat_minor": 0,
  "metadata": {
    "colab": {
      "name": "01 - Tensors, Gradient Descent.ipynb",
      "provenance": [],
      "collapsed_sections": []
    },
    "kernelspec": {
      "name": "python3",
      "display_name": "Python 3"
    }
  },
  "cells": [
    {
      "cell_type": "code",
      "metadata": {
        "id": "NRBhCzWEQfq-"
      },
      "source": [
        "import torch"
      ],
      "execution_count": 1,
      "outputs": []
    },
    {
      "cell_type": "markdown",
      "metadata": {
        "id": "wE4SvBtVRQsE"
      },
      "source": [
        "# Tensors\r\n",
        "\r\n",
        "- PyTorch is a library for processing tensors.\r\n",
        "- A Tensor is a number, vector, matrix or any n-dimensional array."
      ]
    },
    {
      "cell_type": "code",
      "metadata": {
        "colab": {
          "base_uri": "https://localhost:8080/"
        },
        "id": "zV3yxs0ZRFl9",
        "outputId": "1204b3d6-4c21-4d0f-a93b-dce9abb1b87c"
      },
      "source": [
        "#Number\r\n",
        "t1 = torch.tensor(4.) #Decimal indicates float\r\n",
        "t1"
      ],
      "execution_count": 2,
      "outputs": [
        {
          "output_type": "execute_result",
          "data": {
            "text/plain": [
              "tensor(4.)"
            ]
          },
          "metadata": {
            "tags": []
          },
          "execution_count": 2
        }
      ]
    },
    {
      "cell_type": "code",
      "metadata": {
        "colab": {
          "base_uri": "https://localhost:8080/"
        },
        "id": "kd4NZp0uRm6g",
        "outputId": "029bf664-e28a-4485-d529-2ae883dfc4ec"
      },
      "source": [
        "#DataType\r\n",
        "t1.dtype"
      ],
      "execution_count": 3,
      "outputs": [
        {
          "output_type": "execute_result",
          "data": {
            "text/plain": [
              "torch.float32"
            ]
          },
          "metadata": {
            "tags": []
          },
          "execution_count": 3
        }
      ]
    },
    {
      "cell_type": "code",
      "metadata": {
        "colab": {
          "base_uri": "https://localhost:8080/"
        },
        "id": "z79oLDOcR2vr",
        "outputId": "34902c46-128d-4fcd-b6d6-125e3e5ae8dd"
      },
      "source": [
        "#Vector\r\n",
        "t2 = torch.tensor([1., 2, 3, 4])\r\n",
        "t2 #Outputs are all float because a tensor can hold only one type of data type."
      ],
      "execution_count": 4,
      "outputs": [
        {
          "output_type": "execute_result",
          "data": {
            "text/plain": [
              "tensor([1., 2., 3., 4.])"
            ]
          },
          "metadata": {
            "tags": []
          },
          "execution_count": 4
        }
      ]
    },
    {
      "cell_type": "code",
      "metadata": {
        "colab": {
          "base_uri": "https://localhost:8080/"
        },
        "id": "PbR7gEOSSGxN",
        "outputId": "ff18590b-1e0c-42af-8c60-cb4038bae2c1"
      },
      "source": [
        "#Matrix\r\n",
        "t3 = torch.tensor([[5., 6], \r\n",
        "                  [7,8], \r\n",
        "                  [9,10]])\r\n",
        "t3"
      ],
      "execution_count": 5,
      "outputs": [
        {
          "output_type": "execute_result",
          "data": {
            "text/plain": [
              "tensor([[ 5.,  6.],\n",
              "        [ 7.,  8.],\n",
              "        [ 9., 10.]])"
            ]
          },
          "metadata": {
            "tags": []
          },
          "execution_count": 5
        }
      ]
    },
    {
      "cell_type": "code",
      "metadata": {
        "colab": {
          "base_uri": "https://localhost:8080/"
        },
        "id": "e6b8LDKgSaf2",
        "outputId": "174075ea-09ac-4b85-d8e6-a6bbd2cdd4b6"
      },
      "source": [
        "#3-Dimensional Array\r\n",
        "t4 = torch.tensor([[[11, 12, 13], \r\n",
        "                    [13, 14, 15]],\r\n",
        "                   [[15, 16, 17],\r\n",
        "                    [17, 18, 19.]]])\r\n",
        "t4"
      ],
      "execution_count": 6,
      "outputs": [
        {
          "output_type": "execute_result",
          "data": {
            "text/plain": [
              "tensor([[[11., 12., 13.],\n",
              "         [13., 14., 15.]],\n",
              "\n",
              "        [[15., 16., 17.],\n",
              "         [17., 18., 19.]]])"
            ]
          },
          "metadata": {
            "tags": []
          },
          "execution_count": 6
        }
      ]
    },
    {
      "cell_type": "code",
      "metadata": {
        "colab": {
          "base_uri": "https://localhost:8080/"
        },
        "id": "TQBYxb5jS6NH",
        "outputId": "b9061060-33f2-4b23-e4a7-ac24c9573974"
      },
      "source": [
        "#Shape\r\n",
        "t4.shape"
      ],
      "execution_count": 7,
      "outputs": [
        {
          "output_type": "execute_result",
          "data": {
            "text/plain": [
              "torch.Size([2, 2, 3])"
            ]
          },
          "metadata": {
            "tags": []
          },
          "execution_count": 7
        }
      ]
    },
    {
      "cell_type": "markdown",
      "metadata": {
        "id": "sc2hOIQKTmgh"
      },
      "source": [
        "# Tensor Operations and Gradients\r\n",
        "We can combine tensors with arithmetic operations."
      ]
    },
    {
      "cell_type": "code",
      "metadata": {
        "id": "EhEBPRjqTN3A"
      },
      "source": [
        "#Create Tensors\r\n",
        "x = torch.tensor(3.)\r\n",
        "w = torch.tensor(4., requires_grad=True)\r\n",
        "b = torch.tensor(5., requires_grad=True)"
      ],
      "execution_count": 21,
      "outputs": []
    },
    {
      "cell_type": "code",
      "metadata": {
        "colab": {
          "base_uri": "https://localhost:8080/"
        },
        "id": "0-W-0VIIUHfz",
        "outputId": "d21da1e4-126a-44e2-960e-3b7ee8c771d7"
      },
      "source": [
        "#Arithmetic Operations\r\n",
        "y = w * x + b\r\n",
        "y"
      ],
      "execution_count": 22,
      "outputs": [
        {
          "output_type": "execute_result",
          "data": {
            "text/plain": [
              "tensor(17., grad_fn=<AddBackward0>)"
            ]
          },
          "metadata": {
            "tags": []
          },
          "execution_count": 22
        }
      ]
    },
    {
      "cell_type": "markdown",
      "metadata": {
        "id": "sC54dzTpVsUJ"
      },
      "source": [
        " - PyTorch can automatically compute the derivative of y w.r.t the tensors that have `requires_grad` set to `True`, i.e., w and b. \r\n",
        " - The derivatives of `y` w.r.t the input tensors are stored in the `.grad` property of the respective tensors."
      ]
    },
    {
      "cell_type": "code",
      "metadata": {
        "id": "NQNf6V1SUMgu",
        "colab": {
          "base_uri": "https://localhost:8080/"
        },
        "outputId": "d8b0112e-f312-4f37-e92a-0103898f27d9"
      },
      "source": [
        "#Gradients\r\n",
        "\r\n",
        "print('dy/dx = ', x.grad)\r\n",
        "print('dy/dw = ', w.grad)\r\n",
        "print('dy/db = ', b.grad) #.grad stands for gradient"
      ],
      "execution_count": 24,
      "outputs": [
        {
          "output_type": "stream",
          "text": [
            "dy/dx =  None\n",
            "dy/dw =  None\n",
            "dy/db =  None\n"
          ],
          "name": "stdout"
        }
      ]
    },
    {
      "cell_type": "markdown",
      "metadata": {
        "id": "r33J49xTGQaw"
      },
      "source": [
        "# Interoperability with NumPy"
      ]
    },
    {
      "cell_type": "code",
      "metadata": {
        "colab": {
          "base_uri": "https://localhost:8080/"
        },
        "id": "fKdDK01PEi-e",
        "outputId": "0ec6a525-82a9-4634-b0f0-eb32bac6af81"
      },
      "source": [
        "import numpy as np\r\n",
        "\r\n",
        "x = np.array([[1,2], [3,4.]])\r\n",
        "x"
      ],
      "execution_count": 25,
      "outputs": [
        {
          "output_type": "execute_result",
          "data": {
            "text/plain": [
              "array([[1., 2.],\n",
              "       [3., 4.]])"
            ]
          },
          "metadata": {
            "tags": []
          },
          "execution_count": 25
        }
      ]
    },
    {
      "cell_type": "markdown",
      "metadata": {
        "id": "C5v_Ht8lG3u1"
      },
      "source": [
        "Convert Numpy array to PyTorch Tensor using `torch.from_numpy`."
      ]
    },
    {
      "cell_type": "code",
      "metadata": {
        "colab": {
          "base_uri": "https://localhost:8080/"
        },
        "id": "V0WRrNLKGuzQ",
        "outputId": "188ff078-8b58-487a-f95b-3bee3149ed46"
      },
      "source": [
        "y = torch.from_numpy(x)\r\n",
        "y"
      ],
      "execution_count": 26,
      "outputs": [
        {
          "output_type": "execute_result",
          "data": {
            "text/plain": [
              "tensor([[1., 2.],\n",
              "        [3., 4.]], dtype=torch.float64)"
            ]
          },
          "metadata": {
            "tags": []
          },
          "execution_count": 26
        }
      ]
    },
    {
      "cell_type": "code",
      "metadata": {
        "colab": {
          "base_uri": "https://localhost:8080/"
        },
        "id": "HIPRuDYTG_1z",
        "outputId": "ab7a2008-690d-49e7-b67d-62b614dd1ff2"
      },
      "source": [
        "#DataTypes\r\n",
        "\r\n",
        "x.dtype, y.dtype"
      ],
      "execution_count": 27,
      "outputs": [
        {
          "output_type": "execute_result",
          "data": {
            "text/plain": [
              "(dtype('float64'), torch.float64)"
            ]
          },
          "metadata": {
            "tags": []
          },
          "execution_count": 27
        }
      ]
    },
    {
      "cell_type": "markdown",
      "metadata": {
        "id": "VRsgGImrHSbS"
      },
      "source": [
        "To convert a tensor to numpy array use `.numpy` method."
      ]
    },
    {
      "cell_type": "code",
      "metadata": {
        "colab": {
          "base_uri": "https://localhost:8080/"
        },
        "id": "AabTZWFNHDti",
        "outputId": "702afb15-2ca2-4e60-d551-da99b75ee44a"
      },
      "source": [
        "z = y.numpy()\r\n",
        "z"
      ],
      "execution_count": 28,
      "outputs": [
        {
          "output_type": "execute_result",
          "data": {
            "text/plain": [
              "array([[1., 2.],\n",
              "       [3., 4.]])"
            ]
          },
          "metadata": {
            "tags": []
          },
          "execution_count": 28
        }
      ]
    }
  ]
}
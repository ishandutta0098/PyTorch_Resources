{
  "nbformat": 4,
  "nbformat_minor": 0,
  "metadata": {
    "colab": {
      "name": "02-LinearRegression.ipynb",
      "provenance": [],
      "collapsed_sections": []
    },
    "kernelspec": {
      "name": "python3",
      "display_name": "Python 3"
    }
  },
  "cells": [
    {
      "cell_type": "code",
      "metadata": {
        "id": "aF_j-1CZO7t8"
      },
      "source": [
        "#Imports\r\n",
        "\r\n",
        "import numpy as np\r\n",
        "import torch"
      ],
      "execution_count": 32,
      "outputs": []
    },
    {
      "cell_type": "markdown",
      "metadata": {
        "id": "aUYAFUrnbRA8"
      },
      "source": [
        "We Predict the number of Apples and Oranges (in tons) produced with thw help of Temperature, Rainfall and Humidity."
      ]
    },
    {
      "cell_type": "markdown",
      "metadata": {
        "id": "hQzJArHxawIl"
      },
      "source": [
        "# Training Data"
      ]
    },
    {
      "cell_type": "code",
      "metadata": {
        "id": "cjzhXpM9aVLe"
      },
      "source": [
        "#Input (Temperature, Rainfall, Humidity)\r\n",
        "inputs = np.array([[73, 67, 43],\r\n",
        "                   [91, 88, 64],\r\n",
        "                   [87, 134, 58],\r\n",
        "                   [102, 43, 37],\r\n",
        "                   [69, 96, 70]],\r\n",
        "                  dtype = 'float32')"
      ],
      "execution_count": 33,
      "outputs": []
    },
    {
      "cell_type": "code",
      "metadata": {
        "id": "iX_m07G2bOir"
      },
      "source": [
        "#Targets (Apples, Oranges)\r\n",
        "targets = np.array([[56, 70],\r\n",
        "                    [81, 101],\r\n",
        "                    [119, 133],\r\n",
        "                    [22, 37],\r\n",
        "                    [103, 119]],\r\n",
        "                    dtype = 'float32')"
      ],
      "execution_count": 34,
      "outputs": []
    },
    {
      "cell_type": "code",
      "metadata": {
        "colab": {
          "base_uri": "https://localhost:8080/"
        },
        "id": "K7QvX2cpbu86",
        "outputId": "addb5162-3ded-4cfe-f239-1c824d9f9f4f"
      },
      "source": [
        "#Convert inputs and targets to tensors\r\n",
        "inputs = torch.from_numpy(inputs)\r\n",
        "targets = torch.from_numpy(targets)\r\n",
        "\r\n",
        "#We are not setting `requires_grad = True` for `inputs` and `targets` as they are not changing.\r\n",
        "\r\n",
        "print(inputs)\r\n",
        "print(targets)"
      ],
      "execution_count": 35,
      "outputs": [
        {
          "output_type": "stream",
          "text": [
            "tensor([[ 73.,  67.,  43.],\n",
            "        [ 91.,  88.,  64.],\n",
            "        [ 87., 134.,  58.],\n",
            "        [102.,  43.,  37.],\n",
            "        [ 69.,  96.,  70.]])\n",
            "tensor([[ 56.,  70.],\n",
            "        [ 81., 101.],\n",
            "        [119., 133.],\n",
            "        [ 22.,  37.],\n",
            "        [103., 119.]])\n"
          ],
          "name": "stdout"
        }
      ]
    },
    {
      "cell_type": "markdown",
      "metadata": {
        "id": "rtwlrddJcpvz"
      },
      "source": [
        "# Linear Regression Model from Scratch"
      ]
    },
    {
      "cell_type": "markdown",
      "metadata": {
        "id": "eXKZ6c9pctpC"
      },
      "source": [
        "- yield_apple = w11 x temp + w12 x rainfall + w13 x humidity + b1  \r\n",
        "yield_oranges = w21 x temp + w22 x rainfall + w23 x humidity + b2\r\n",
        "\r\n",
        "- The weights and biases (`w11, w12, .... w23, b1 and b2`) can also be represented as matrices, initializes as random values. The first row of `w` and the first element of `b` are used to predict the first target variable i.e., yield of apples and similarly the second for oranges.\r\n",
        "\r\n"
      ]
    },
    {
      "cell_type": "code",
      "metadata": {
        "colab": {
          "base_uri": "https://localhost:8080/"
        },
        "id": "XaQK96uEccvm",
        "outputId": "6533436a-1634-4376-9d06-569bbac8bb37"
      },
      "source": [
        "#Weights and Biases\r\n",
        "w = torch.randn(2, 3, requires_grad = True)\r\n",
        "b = torch.randn(2, requires_grad = True)\r\n",
        "\r\n",
        "print(w)\r\n",
        "print(b)"
      ],
      "execution_count": 36,
      "outputs": [
        {
          "output_type": "stream",
          "text": [
            "tensor([[ 2.0590,  0.1758,  0.5604],\n",
            "        [ 0.2936, -0.3160,  0.2585]], requires_grad=True)\n",
            "tensor([ 0.3125, -1.0325], requires_grad=True)\n"
          ],
          "name": "stdout"
        }
      ]
    },
    {
      "cell_type": "markdown",
      "metadata": {
        "id": "sOzmg1jDfFL2"
      },
      "source": [
        "`torch.randn` creates a tensor with the given shape, with elements picked randomly from a normal distribution with mean 0 and standard deviation 1.\r\n",
        "\r\n",
        "Our model is simply a function that performs a matrix multiplication of the `inputs` and the weights `w` (transposed) and adds the bias `b` (replicated for each observation)."
      ]
    },
    {
      "cell_type": "code",
      "metadata": {
        "id": "_QZwwmn6d2Ym"
      },
      "source": [
        "#Model\r\n",
        "def model(x):\r\n",
        "  return x @ w.t() + b"
      ],
      "execution_count": 37,
      "outputs": []
    },
    {
      "cell_type": "markdown",
      "metadata": {
        "id": "MaLcdP-sgIZw"
      },
      "source": [
        "`@` represents matrix multiplication in PyTorch and `.t` method returns the transpose of a tensor."
      ]
    },
    {
      "cell_type": "code",
      "metadata": {
        "colab": {
          "base_uri": "https://localhost:8080/"
        },
        "id": "1LOnw6ufgFav",
        "outputId": "34b1326f-adb8-49c5-9d07-5f99010787fb"
      },
      "source": [
        "#Generate Predictions\r\n",
        "preds = model(inputs)\r\n",
        "print(preds)"
      ],
      "execution_count": 38,
      "outputs": [
        {
          "output_type": "stream",
          "text": [
            "tensor([[186.4973,  10.3438],\n",
            "        [239.0203,  14.4214],\n",
            "        [235.5074,  -2.8398],\n",
            "        [238.6277,  24.8903],\n",
            "        [198.4906,   6.9858]], grad_fn=<AddBackward0>)\n"
          ],
          "name": "stdout"
        }
      ]
    },
    {
      "cell_type": "markdown",
      "metadata": {
        "id": "5uRP1z9Kg74o"
      },
      "source": [
        "The model does not perform well as it has been initialized with random weights and biases."
      ]
    },
    {
      "cell_type": "markdown",
      "metadata": {
        "id": "QgOKqOG6hDnn"
      },
      "source": [
        "# Loss Function\r\n",
        "\r\n",
        "To evaluate how well our model is performing  we can compare the model's predictions with the actual targets using the following method:\r\n",
        "\r\n",
        "- Calculate the difference between the two matrice (`preds` and `targets`).\r\n",
        "- Square all the elements of the difference matrix to remove negative values.\r\n",
        "- Calculate the average of the resulting matrix."
      ]
    },
    {
      "cell_type": "code",
      "metadata": {
        "id": "h40VjEBKgq88"
      },
      "source": [
        "#MSE Loss\r\n",
        "def mse(t1, t2):\r\n",
        "  diff = t1 - t2;\r\n",
        "  return torch.sum(diff * diff) / diff.numel()"
      ],
      "execution_count": 39,
      "outputs": []
    },
    {
      "cell_type": "markdown",
      "metadata": {
        "id": "D1hT-DYqjCb6"
      },
      "source": [
        "`torch.sum` returns the sum of all elements in a tensor and `.numel` method returns the no. of elements in a tensor. "
      ]
    },
    {
      "cell_type": "code",
      "metadata": {
        "colab": {
          "base_uri": "https://localhost:8080/"
        },
        "id": "W7TNAKkxjBrY",
        "outputId": "a076bd94-29e7-488d-b9aa-6b3b4d36eef6"
      },
      "source": [
        "loss = mse(preds, targets)\r\n",
        "print(loss)"
      ],
      "execution_count": 40,
      "outputs": [
        {
          "output_type": "stream",
          "text": [
            "tensor(15382.0967, grad_fn=<DivBackward0>)\n"
          ],
          "name": "stdout"
        }
      ]
    },
    {
      "cell_type": "markdown",
      "metadata": {
        "id": "FRhx6m6inB2u"
      },
      "source": [
        "# Compute Gradients"
      ]
    },
    {
      "cell_type": "markdown",
      "metadata": {
        "id": "X-ur793cnFE2"
      },
      "source": [
        "With PyTorch we can automatically compute the gradient or derivative of the loss w.r.t. the weights and biases, because they have `requires_grad` set to `True`."
      ]
    },
    {
      "cell_type": "code",
      "metadata": {
        "id": "2jIZNsBajxpR"
      },
      "source": [
        "#Compute Gradients\r\n",
        "loss.backward()"
      ],
      "execution_count": 41,
      "outputs": []
    },
    {
      "cell_type": "markdown",
      "metadata": {
        "id": "GUGtKuyZnjir"
      },
      "source": [
        "The gradients are stored in the `.grad` property of the respective tensors. Note that the derivative of the loss w.r.t. the weights matrix is itself a matrix, with the same dimensions."
      ]
    },
    {
      "cell_type": "code",
      "metadata": {
        "colab": {
          "base_uri": "https://localhost:8080/"
        },
        "id": "-cfOtkNSncOD",
        "outputId": "fe41842e-599f-430c-d9b6-2e1ab2aa5f5c"
      },
      "source": [
        "#Gradients for Weights\r\n",
        "print(w)\r\n",
        "print(w.grad)"
      ],
      "execution_count": 42,
      "outputs": [
        {
          "output_type": "stream",
          "text": [
            "tensor([[ 2.0590,  0.1758,  0.5604],\n",
            "        [ 0.2936, -0.3160,  0.2585]], requires_grad=True)\n",
            "tensor([[12545.4365, 11348.6387,  7436.3369],\n",
            "        [-6603.1597, -8218.5020, -4854.8027]])\n"
          ],
          "name": "stdout"
        }
      ]
    },
    {
      "cell_type": "markdown",
      "metadata": {
        "id": "tiwI37NbojHT"
      },
      "source": [
        "- The loss is a quadratic function of our weights and biases, and our objective is to find the set of weights where the loss is the lowest. \r\n",
        "- A key insight from calculus is that the gradient indicates the rate of change of the loss or the slope of the loss function w.r.t. the weights and biases.  \r\n",
        "  \r\n",
        "If gradient element is **positive**:\r\n",
        "  - **Increasing** the element's value slightly **Increase** the loss.\r\n",
        "  - **Decreasing** the element's value slightly will **Decrease** the loss.\r\n",
        "\r\n",
        "If the gradient element is **negative**:\r\n",
        "  - **Increasing** the element's value slightly **Decrease** the loss.\r\n",
        "  - **Decreasing** the element's value slightly will **Increase** the loss."
      ]
    },
    {
      "cell_type": "markdown",
      "metadata": {
        "id": "-SMbpgahqdSG"
      },
      "source": [
        "  \r\n",
        "The increase or decrease in loss by changing a weight element is proportional to the value of the gradient of the loss w.r.t. that element. This forms the basis of the optimization algorithm that we will use to improve our model.  \r\n",
        "  \r\n",
        "Before we proceed, we reset the gradients to zero by calling `.zero_()` method, because PyTorch accumulates gradients i.e., the next time we call `.backward` on the loss, the new gradient values will get added to the existing values which may lead to unexpected results."
      ]
    },
    {
      "cell_type": "code",
      "metadata": {
        "id": "EGMQBRh0oLkS",
        "colab": {
          "base_uri": "https://localhost:8080/"
        },
        "outputId": "455a7e44-e37d-4420-dbe8-ea424e4686b9"
      },
      "source": [
        "w.grad.zero_()\r\n",
        "b.grad.zero_()\r\n",
        "\r\n",
        "print(w.grad)\r\n",
        "print(b.grad)"
      ],
      "execution_count": 43,
      "outputs": [
        {
          "output_type": "stream",
          "text": [
            "tensor([[0., 0., 0.],\n",
            "        [0., 0., 0.]])\n",
            "tensor([0., 0.])\n"
          ],
          "name": "stdout"
        }
      ]
    },
    {
      "cell_type": "markdown",
      "metadata": {
        "id": "PODF5PAdEbb-"
      },
      "source": [
        "#Adjust Weights and Biases using Gradient Descent\r\n",
        "\r\n",
        "We will reduce the loss and improve our model using the gradient descent optimization algorithm, which has the following steps:\r\n",
        "\r\n",
        "1. Generate Predictions\r\n",
        "2. Calculate the loss\r\n",
        "3. Compute Gradients w.r.t. the weights and biases\r\n",
        "4. Adjust the weights by subtracting a small quantity proportional to the gradient\r\n",
        "5. Reset the gradients to zero"
      ]
    },
    {
      "cell_type": "code",
      "metadata": {
        "colab": {
          "base_uri": "https://localhost:8080/"
        },
        "id": "8ErHHPqDENFk",
        "outputId": "1b0dc550-7b46-45de-a35a-683dbab25395"
      },
      "source": [
        "#1. Generate Predictions\r\n",
        "preds = model(inputs)\r\n",
        "print(preds)"
      ],
      "execution_count": 44,
      "outputs": [
        {
          "output_type": "stream",
          "text": [
            "tensor([[186.4973,  10.3438],\n",
            "        [239.0203,  14.4214],\n",
            "        [235.5074,  -2.8398],\n",
            "        [238.6277,  24.8903],\n",
            "        [198.4906,   6.9858]], grad_fn=<AddBackward0>)\n"
          ],
          "name": "stdout"
        }
      ]
    },
    {
      "cell_type": "code",
      "metadata": {
        "colab": {
          "base_uri": "https://localhost:8080/"
        },
        "id": "pVCLvyGgFKx2",
        "outputId": "03ad6ab5-a03a-43c0-9399-69801452e96f"
      },
      "source": [
        "#2. Claculate the Loss\r\n",
        "loss = mse(preds, targets)\r\n",
        "print(loss)"
      ],
      "execution_count": 45,
      "outputs": [
        {
          "output_type": "stream",
          "text": [
            "tensor(15382.0967, grad_fn=<DivBackward0>)\n"
          ],
          "name": "stdout"
        }
      ]
    },
    {
      "cell_type": "code",
      "metadata": {
        "colab": {
          "base_uri": "https://localhost:8080/"
        },
        "id": "9B5n7LyOFYUR",
        "outputId": "4a5555b3-f62e-46b4-b505-ee34a111ca7d"
      },
      "source": [
        "#3. Compute Gradients\r\n",
        "loss.backward()\r\n",
        "print(w.grad)\r\n",
        "print(b.grad)"
      ],
      "execution_count": 46,
      "outputs": [
        {
          "output_type": "stream",
          "text": [
            "tensor([[12545.4365, 11348.6387,  7436.3369],\n",
            "        [-6603.1597, -8218.5020, -4854.8027]])\n",
            "tensor([143.4287, -81.2397])\n"
          ],
          "name": "stdout"
        }
      ]
    },
    {
      "cell_type": "code",
      "metadata": {
        "id": "yMDDNEAFFtrb"
      },
      "source": [
        "#4-5. Adjust Weights and Reset Gradients\r\n",
        "with torch.no_grad():\r\n",
        "  w -= w.grad * 1e-5\r\n",
        "  b -= b.grad * 1e-5\r\n",
        "  w.grad.zero_()\r\n",
        "  b.grad.zero_()"
      ],
      "execution_count": 47,
      "outputs": []
    },
    {
      "cell_type": "markdown",
      "metadata": {
        "id": "GrA7YcaRGTB5"
      },
      "source": [
        "- We use `torch.no_grad()` to indicate to PyTorch that we shouldn't track, calculate or modify gradients while updating the weights and biases.\r\n",
        "- We multiply the gradients with a really small number (10^-5 in this case), to ensure that we don't modify the weights by a really large amount, since we only want to take a small step in the downhill direction of the gradient. The number is called the *learning rate* of the algorithm.\r\n",
        "- After we have updated the weights, we reset the gradients back to zero, to avoid affecting future computation."
      ]
    },
    {
      "cell_type": "code",
      "metadata": {
        "colab": {
          "base_uri": "https://localhost:8080/"
        },
        "id": "IO3AsTd6GSEZ",
        "outputId": "deaf03d3-6943-4f90-8a61-ac5bed616657"
      },
      "source": [
        "#Updated weights and biases\r\n",
        "print(w)\r\n",
        "print(b)"
      ],
      "execution_count": 48,
      "outputs": [
        {
          "output_type": "stream",
          "text": [
            "tensor([[ 1.9336,  0.0623,  0.4861],\n",
            "        [ 0.3596, -0.2338,  0.3071]], requires_grad=True)\n",
            "tensor([ 0.3111, -1.0317], requires_grad=True)\n"
          ],
          "name": "stdout"
        }
      ]
    },
    {
      "cell_type": "code",
      "metadata": {
        "colab": {
          "base_uri": "https://localhost:8080/"
        },
        "id": "c4-kP20ZH5-T",
        "outputId": "832a2743-d6ef-466a-96cb-baf767f7b1f2"
      },
      "source": [
        "#Calculate Loss\r\n",
        "preds = model(inputs)\r\n",
        "loss = mse(preds, targets)\r\n",
        "print(loss)"
      ],
      "execution_count": 49,
      "outputs": [
        {
          "output_type": "stream",
          "text": [
            "tensor(11043.9824, grad_fn=<DivBackward0>)\n"
          ],
          "name": "stdout"
        }
      ]
    },
    {
      "cell_type": "markdown",
      "metadata": {
        "id": "navIHq9FITyo"
      },
      "source": [
        "The loss is lesser than the previous iteration."
      ]
    },
    {
      "cell_type": "markdown",
      "metadata": {
        "id": "v8pX6yQ1IdJ1"
      },
      "source": [
        "#Train for Multiple Epochs\r\n",
        "\r\n",
        "To reduce the loss further, we can repeat the process of adjusting the weights and biases using the gradients multiple times. Each iteration is called an epoch. Let's train the model for 100 epochs."
      ]
    },
    {
      "cell_type": "code",
      "metadata": {
        "id": "1u-B9c5bIIfX"
      },
      "source": [
        "#Train for 100 epochs\r\n",
        "for i in range(100):\r\n",
        "  preds = model(inputs)\r\n",
        "  loss = mse(preds, targets)\r\n",
        "  loss.backward()\r\n",
        "\r\n",
        "  with torch.no_grad():\r\n",
        "    w -= w.grad * 1e-5\r\n",
        "    b -= b.grad * 1e-5\r\n",
        "    w.grad.zero_()\r\n",
        "    b.grad.zero_()"
      ],
      "execution_count": 50,
      "outputs": []
    },
    {
      "cell_type": "code",
      "metadata": {
        "colab": {
          "base_uri": "https://localhost:8080/"
        },
        "id": "nXTs5pjXJJ2v",
        "outputId": "f2a6e891-9287-48ef-8016-f39b1bd396eb"
      },
      "source": [
        "#Calculate Loss\r\n",
        "preds = model(inputs)\r\n",
        "loss = mse(preds, targets)\r\n",
        "print(loss)"
      ],
      "execution_count": 51,
      "outputs": [
        {
          "output_type": "stream",
          "text": [
            "tensor(606.7211, grad_fn=<DivBackward0>)\n"
          ],
          "name": "stdout"
        }
      ]
    },
    {
      "cell_type": "markdown",
      "metadata": {
        "id": "kPJ-0VggJbot"
      },
      "source": [
        "Loss is significatly lower after 100 epochs."
      ]
    },
    {
      "cell_type": "code",
      "metadata": {
        "colab": {
          "base_uri": "https://localhost:8080/"
        },
        "id": "MBzF01diJXA8",
        "outputId": "058a680a-2511-4aca-c1f0-ce81cfe74dc0"
      },
      "source": [
        "#Predictions\r\n",
        "preds"
      ],
      "execution_count": 52,
      "outputs": [
        {
          "output_type": "execute_result",
          "data": {
            "text/plain": [
              "tensor([[ 67.0648,  75.4338],\n",
              "        [ 87.0209, 102.6451],\n",
              "        [ 91.8301, 120.2249],\n",
              "        [ 78.1402,  67.6532],\n",
              "        [ 77.0570, 104.4911]], grad_fn=<AddBackward0>)"
            ]
          },
          "metadata": {
            "tags": []
          },
          "execution_count": 52
        }
      ]
    },
    {
      "cell_type": "code",
      "metadata": {
        "colab": {
          "base_uri": "https://localhost:8080/"
        },
        "id": "7uQmiD4ZJhaP",
        "outputId": "4fbd69dc-b0a2-480c-84f9-6bd7ab3f8aad"
      },
      "source": [
        "#Targets\r\n",
        "targets"
      ],
      "execution_count": 53,
      "outputs": [
        {
          "output_type": "execute_result",
          "data": {
            "text/plain": [
              "tensor([[ 56.,  70.],\n",
              "        [ 81., 101.],\n",
              "        [119., 133.],\n",
              "        [ 22.,  37.],\n",
              "        [103., 119.]])"
            ]
          },
          "metadata": {
            "tags": []
          },
          "execution_count": 53
        }
      ]
    },
    {
      "cell_type": "markdown",
      "metadata": {
        "id": "JewWfa0LKTb4"
      },
      "source": [
        "#Linear Regrassion using PyTorch built-ins \r\n",
        "\r\n",
        "`torch.nn` package of PyTorch contains utility classes for building neural networks."
      ]
    },
    {
      "cell_type": "code",
      "metadata": {
        "id": "fle7PGr7KkDR"
      },
      "source": [
        "import torch.nn as nn"
      ],
      "execution_count": 54,
      "outputs": []
    },
    {
      "cell_type": "code",
      "metadata": {
        "id": "dxPN3qomKmkI"
      },
      "source": [
        "#Input (Temperature, Rainfall, Humidity)\r\n",
        "inputs = np.array([[73, 67, 43], [91, 88, 64], [87, 134, 58],\r\n",
        "                   [102, 43, 37], [69, 96, 70], [73, 67, 43],\r\n",
        "                   [91, 88, 64], [87, 134, 58], [102, 43, 37],\r\n",
        "                   [69, 96, 70], [73, 67, 43], [91, 88, 64],\r\n",
        "                   [87, 134, 58], [102, 43, 37], [69, 96, 70]],\r\n",
        "                  dtype = 'float32')\r\n",
        "\r\n",
        "#Targets (Apples, Oranges)\r\n",
        "targets = np.array([[56, 70], [81, 101], [119, 133],\r\n",
        "                    [22, 37], [103, 119], [56, 70],\r\n",
        "                    [81, 101], [119, 133], [22, 37],\r\n",
        "                    [103, 119], [56, 70], [81, 101],\r\n",
        "                    [119, 133], [22, 37], [103, 119]],\r\n",
        "                   dtype = 'float32')\r\n",
        "\r\n",
        "#Convert to Tensors\r\n",
        "inputs = torch.from_numpy(inputs)\r\n",
        "targets = torch.from_numpy(targets)"
      ],
      "execution_count": 55,
      "outputs": []
    },
    {
      "cell_type": "markdown",
      "metadata": {
        "id": "u5gr2CveNDj4"
      },
      "source": [
        "#Dataset and DataLoader"
      ]
    },
    {
      "cell_type": "markdown",
      "metadata": {
        "id": "QUmOahSLCzLp"
      },
      "source": [
        "We will create a `TensorDataset`, which allows access to rows from `inputs` and `targets` as tuples, and provide standard APIs for working with many different types of datasets in PyTorch"
      ]
    },
    {
      "cell_type": "code",
      "metadata": {
        "id": "r09Bqld0MVG4"
      },
      "source": [
        "from torch.utils.data import TensorDataset"
      ],
      "execution_count": 56,
      "outputs": []
    },
    {
      "cell_type": "code",
      "metadata": {
        "colab": {
          "base_uri": "https://localhost:8080/"
        },
        "id": "t0lD5R17DJjT",
        "outputId": "3a66ebf1-2ea0-43e6-f6c5-dd5226923ce8"
      },
      "source": [
        "#Define Daataset\r\n",
        "train_ds = TensorDataset(inputs, targets)\r\n",
        "train_ds[0:3]"
      ],
      "execution_count": 57,
      "outputs": [
        {
          "output_type": "execute_result",
          "data": {
            "text/plain": [
              "(tensor([[ 73.,  67.,  43.],\n",
              "         [ 91.,  88.,  64.],\n",
              "         [ 87., 134.,  58.]]), tensor([[ 56.,  70.],\n",
              "         [ 81., 101.],\n",
              "         [119., 133.]]))"
            ]
          },
          "metadata": {
            "tags": []
          },
          "execution_count": 57
        }
      ]
    },
    {
      "cell_type": "markdown",
      "metadata": {
        "id": "cKlY-s9tDWzy"
      },
      "source": [
        "The `TensorDataset` allows us to access a small section of the training data using the array indexing notation (`[0:3]`). It returns a tuple in which first element contains the input variables for the selected rows and the second contains the targets.  \r\n",
        "\r\n",
        "We will also create a `DataLoader`, which can split the data into batches of a predefined size while training. It also provides other utilities like shuffling and random sampling of the data. "
      ]
    },
    {
      "cell_type": "code",
      "metadata": {
        "id": "V3xRaFLZDTq6"
      },
      "source": [
        "from torch.utils.data import DataLoader"
      ],
      "execution_count": 58,
      "outputs": []
    },
    {
      "cell_type": "code",
      "metadata": {
        "id": "peFCE8ecENTq"
      },
      "source": [
        "#Define DataLoader \r\n",
        "batch_size = 5\r\n",
        "train_dl = DataLoader(train_ds, batch_size, shuffle = True)"
      ],
      "execution_count": 59,
      "outputs": []
    },
    {
      "cell_type": "markdown",
      "metadata": {
        "id": "TwoNpCPZFBB1"
      },
      "source": [
        "The data loader is typically used in a `for-in` loop. Example:"
      ]
    },
    {
      "cell_type": "code",
      "metadata": {
        "colab": {
          "base_uri": "https://localhost:8080/"
        },
        "id": "bDz0P2kSEtVx",
        "outputId": "e1dd5550-c81d-48d3-ad97-ef640af9e916"
      },
      "source": [
        "for xb, yb in train_dl:\r\n",
        "  print('batch:')\r\n",
        "  print(xb) #Inputs\r\n",
        "  print(yb) #Targets"
      ],
      "execution_count": 60,
      "outputs": [
        {
          "output_type": "stream",
          "text": [
            "batch:\n",
            "tensor([[ 69.,  96.,  70.],\n",
            "        [ 87., 134.,  58.],\n",
            "        [ 91.,  88.,  64.],\n",
            "        [ 91.,  88.,  64.],\n",
            "        [ 69.,  96.,  70.]])\n",
            "tensor([[103., 119.],\n",
            "        [119., 133.],\n",
            "        [ 81., 101.],\n",
            "        [ 81., 101.],\n",
            "        [103., 119.]])\n",
            "batch:\n",
            "tensor([[102.,  43.,  37.],\n",
            "        [ 73.,  67.,  43.],\n",
            "        [102.,  43.,  37.],\n",
            "        [ 73.,  67.,  43.],\n",
            "        [ 87., 134.,  58.]])\n",
            "tensor([[ 22.,  37.],\n",
            "        [ 56.,  70.],\n",
            "        [ 22.,  37.],\n",
            "        [ 56.,  70.],\n",
            "        [119., 133.]])\n",
            "batch:\n",
            "tensor([[ 91.,  88.,  64.],\n",
            "        [102.,  43.,  37.],\n",
            "        [ 69.,  96.,  70.],\n",
            "        [ 87., 134.,  58.],\n",
            "        [ 73.,  67.,  43.]])\n",
            "tensor([[ 81., 101.],\n",
            "        [ 22.,  37.],\n",
            "        [103., 119.],\n",
            "        [119., 133.],\n",
            "        [ 56.,  70.]])\n"
          ],
          "name": "stdout"
        }
      ]
    },
    {
      "cell_type": "markdown",
      "metadata": {
        "id": "gUcD0v1eFSXY"
      },
      "source": [
        "So here we have 3 batches each of size 5."
      ]
    },
    {
      "cell_type": "markdown",
      "metadata": {
        "id": "NKpEcsisFi7Y"
      },
      "source": [
        "In each iteration, the data loader returns one batch of data with the given batch size. If shuffle is set to True, it shuffles the training data before creating batches. Shuffling helps randomize the input to the optimization algorithm, leading to a faster reduction in the loss."
      ]
    },
    {
      "cell_type": "markdown",
      "metadata": {
        "id": "C39qem2RHiW1"
      },
      "source": [
        "#nn.Linear\r\n",
        "Instead of initializing the weights & biases manually, we can define the model using the nn.Linear class from PyTorch, which does it automatically."
      ]
    },
    {
      "cell_type": "code",
      "metadata": {
        "colab": {
          "base_uri": "https://localhost:8080/"
        },
        "id": "8O5mWsP-FOy0",
        "outputId": "82890a90-232e-45ef-f52b-95c90b8f7b71"
      },
      "source": [
        "#Define Model\r\n",
        "model = nn.Linear(3,2) #3 Inputs (Temperature, Rainfall, Humidity), 2 Outputs (Apples, Oranges)\r\n",
        "print(model.weight)\r\n",
        "print(model.bias)"
      ],
      "execution_count": 61,
      "outputs": [
        {
          "output_type": "stream",
          "text": [
            "Parameter containing:\n",
            "tensor([[ 0.4522,  0.3313, -0.5235],\n",
            "        [ 0.1670,  0.2491, -0.4215]], requires_grad=True)\n",
            "Parameter containing:\n",
            "tensor([0.0239, 0.3159], requires_grad=True)\n"
          ],
          "name": "stdout"
        }
      ]
    },
    {
      "cell_type": "markdown",
      "metadata": {
        "id": "qM_RJTOXIZ4m"
      },
      "source": [
        "PyTorch models also have a helpful .parameters method, which returns a list containing all the weights and bias matrices present in the model. For our linear regression model, we have one weight matrix and one bias matrix."
      ]
    },
    {
      "cell_type": "code",
      "metadata": {
        "colab": {
          "base_uri": "https://localhost:8080/"
        },
        "id": "R7Oi8iBsIClC",
        "outputId": "797f3a3e-96a7-4e45-b502-042dc2ac3a34"
      },
      "source": [
        "#Parameters\r\n",
        "list(model.parameters())"
      ],
      "execution_count": 62,
      "outputs": [
        {
          "output_type": "execute_result",
          "data": {
            "text/plain": [
              "[Parameter containing:\n",
              " tensor([[ 0.4522,  0.3313, -0.5235],\n",
              "         [ 0.1670,  0.2491, -0.4215]], requires_grad=True),\n",
              " Parameter containing:\n",
              " tensor([0.0239, 0.3159], requires_grad=True)]"
            ]
          },
          "metadata": {
            "tags": []
          },
          "execution_count": 62
        }
      ]
    },
    {
      "cell_type": "markdown",
      "metadata": {
        "id": "_RAyjNUmI8zl"
      },
      "source": [
        "We can use the model to generate predictions in the same way as before."
      ]
    },
    {
      "cell_type": "code",
      "metadata": {
        "colab": {
          "base_uri": "https://localhost:8080/"
        },
        "id": "yocF1V1qIkDx",
        "outputId": "a8a6b856-cbf0-43e2-8e5d-9f0e625bbd51"
      },
      "source": [
        "#Generate Predictions\r\n",
        "preds = model(inputs)\r\n",
        "preds"
      ],
      "execution_count": 63,
      "outputs": [
        {
          "output_type": "execute_result",
          "data": {
            "text/plain": [
              "tensor([[32.7248, 11.0714],\n",
              "        [36.8293, 10.4569],\n",
              "        [53.4023, 23.7786],\n",
              "        [41.0285, 12.4627],\n",
              "        [26.3901,  6.2480],\n",
              "        [32.7248, 11.0714],\n",
              "        [36.8293, 10.4569],\n",
              "        [53.4023, 23.7786],\n",
              "        [41.0285, 12.4627],\n",
              "        [26.3901,  6.2480],\n",
              "        [32.7248, 11.0714],\n",
              "        [36.8293, 10.4569],\n",
              "        [53.4023, 23.7786],\n",
              "        [41.0285, 12.4627],\n",
              "        [26.3901,  6.2480]], grad_fn=<AddmmBackward>)"
            ]
          },
          "metadata": {
            "tags": []
          },
          "execution_count": 63
        }
      ]
    },
    {
      "cell_type": "markdown",
      "metadata": {
        "id": "T38vnbEjJSwi"
      },
      "source": [
        "#Loss Function\r\n",
        "Instead of defining a loss function manually, we can use the built-in loss function mse_loss"
      ]
    },
    {
      "cell_type": "code",
      "metadata": {
        "id": "3acDtZTNJEEI"
      },
      "source": [
        "#Import nn.functional\r\n",
        "import torch.nn.functional as F"
      ],
      "execution_count": 64,
      "outputs": []
    },
    {
      "cell_type": "markdown",
      "metadata": {
        "id": "yT-CahaJJfA6"
      },
      "source": [
        "The nn.functional package contains many useful loss functions and several other utilities."
      ]
    },
    {
      "cell_type": "code",
      "metadata": {
        "id": "X0vIsMJFJdpy"
      },
      "source": [
        "#Define Loss Function\r\n",
        "loss_fn = F.mse_loss"
      ],
      "execution_count": 65,
      "outputs": []
    },
    {
      "cell_type": "markdown",
      "metadata": {
        "id": "JOOlJzK6JxnL"
      },
      "source": [
        "Let's compute the loss for the current predictions of our model."
      ]
    },
    {
      "cell_type": "code",
      "metadata": {
        "colab": {
          "base_uri": "https://localhost:8080/"
        },
        "id": "vs6kk4XXJw0r",
        "outputId": "d624c257-8d4e-4aa7-dd2d-f5207da73fa3"
      },
      "source": [
        "loss = loss_fn(model(inputs), targets)\r\n",
        "loss"
      ],
      "execution_count": 66,
      "outputs": [
        {
          "output_type": "execute_result",
          "data": {
            "text/plain": [
              "tensor(4994.2041, grad_fn=<MseLossBackward>)"
            ]
          },
          "metadata": {
            "tags": []
          },
          "execution_count": 66
        }
      ]
    },
    {
      "cell_type": "markdown",
      "metadata": {
        "id": "AB09eKZBKKj_"
      },
      "source": [
        "#Optimizer\r\n",
        "Instead of manually manipulating the model's weights & biases using gradients, we can use the optimizer optim.SGD. SGD is short for \"stochastic gradient descent\". The term stochastic indicates that samples are selected in random batches instead of as a single group."
      ]
    },
    {
      "cell_type": "code",
      "metadata": {
        "id": "fnz7Cae8J63a"
      },
      "source": [
        "#Define Optimizer\r\n",
        "opt = torch.optim.SGD(model.parameters(), lr = 1e-5)"
      ],
      "execution_count": 67,
      "outputs": []
    },
    {
      "cell_type": "markdown",
      "metadata": {
        "id": "8eDBoPGrKXEn"
      },
      "source": [
        "Note that model.parameters() is passed as an argument to optim.SGD so that the optimizer knows which matrices should be modified during the update step. Also, we can specify a learning rate that controls the amount by which the parameters are modified.\r\n",
        "\r\n",
        "#Train the model\r\n",
        "We are now ready to train the model. We'll follow the same process to implement gradient descent:\r\n",
        "\r\n",
        "1. Generate predictions\r\n",
        "2. Calculate the loss\r\n",
        "3. Compute gradients w.r.t the weights and biases\r\n",
        "4. Adjust the weights by subtracting a small quantity proportional to the gradient\r\n",
        "5. Reset the gradients to zero\r\n",
        "\r\n",
        "The only change is that we'll work batches of data instead of processing the entire training data in every iteration. Let's define a utility function fit that trains the model for a given number of epochs."
      ]
    },
    {
      "cell_type": "code",
      "metadata": {
        "id": "hR6XXMnuKWP1"
      },
      "source": [
        "#Utility Function to Train the Model\r\n",
        "def fit(num_epochs, model, loss_fn, opt, train_dl):\r\n",
        "\r\n",
        "  #Repeat for given no. of epochs\r\n",
        "  for epoch in range(num_epochs):\r\n",
        "\r\n",
        "    #Train with batches of data\r\n",
        "    for xb, yb in train_dl:\r\n",
        "\r\n",
        "      #1. Generate Predictions\r\n",
        "      pred = model(xb)\r\n",
        "\r\n",
        "      #2. Calculate the loss\r\n",
        "      loss = loss_fn(pred, yb)\r\n",
        "\r\n",
        "      #3. Compute gradients\r\n",
        "      loss.backward()\r\n",
        "\r\n",
        "      #4. Update parameters using gradients\r\n",
        "      opt.step()\r\n",
        "\r\n",
        "      #5. Reset gradients to zero\r\n",
        "      opt.zero_grad()\r\n",
        "\r\n",
        "    #Print the Progress\r\n",
        "    if(epoch+1) % 10 == 0:\r\n",
        "      print('Epoch [{}/{}, Loss: {:.4f}'.format(epoch+1, num_epochs, loss.item()))"
      ],
      "execution_count": 68,
      "outputs": []
    },
    {
      "cell_type": "markdown",
      "metadata": {
        "id": "M7F3BOTYM9lt"
      },
      "source": [
        "Some things to note above:\r\n",
        "\r\n",
        "- We use the data loader defined earlier to get batches of data for every iteration.\r\n",
        "\r\n",
        "- Instead of updating parameters (weights and biases) manually, we use opt.step to perform the update and opt.zero_grad to reset the gradients to zero.\r\n",
        "\r\n",
        "- We've also added a log statement that prints the loss from the last batch of data for every 10th epoch to track training progress. loss.item returns the actual value stored in the loss tensor.\r\n",
        "\r\n",
        "Let's train the model for 1000 epochs."
      ]
    },
    {
      "cell_type": "code",
      "metadata": {
        "colab": {
          "base_uri": "https://localhost:8080/"
        },
        "id": "J1yjax7tMxfy",
        "outputId": "02731e07-453c-432f-eb19-467a56e243e7"
      },
      "source": [
        "fit(1000, model, loss_fn, opt, train_dl)"
      ],
      "execution_count": 69,
      "outputs": [
        {
          "output_type": "stream",
          "text": [
            "Epoch [10/1000, Loss: 711.9346\n",
            "Epoch [20/1000, Loss: 366.9831\n",
            "Epoch [30/1000, Loss: 282.7798\n",
            "Epoch [40/1000, Loss: 124.9011\n",
            "Epoch [50/1000, Loss: 172.0351\n",
            "Epoch [60/1000, Loss: 80.3598\n",
            "Epoch [70/1000, Loss: 159.7980\n",
            "Epoch [80/1000, Loss: 79.4750\n",
            "Epoch [90/1000, Loss: 69.2567\n",
            "Epoch [100/1000, Loss: 90.5530\n",
            "Epoch [110/1000, Loss: 67.7038\n",
            "Epoch [120/1000, Loss: 34.0371\n",
            "Epoch [130/1000, Loss: 42.0527\n",
            "Epoch [140/1000, Loss: 53.5583\n",
            "Epoch [150/1000, Loss: 33.8320\n",
            "Epoch [160/1000, Loss: 74.1195\n",
            "Epoch [170/1000, Loss: 45.1720\n",
            "Epoch [180/1000, Loss: 66.5091\n",
            "Epoch [190/1000, Loss: 26.2031\n",
            "Epoch [200/1000, Loss: 39.5761\n",
            "Epoch [210/1000, Loss: 35.6062\n",
            "Epoch [220/1000, Loss: 60.1364\n",
            "Epoch [230/1000, Loss: 34.5742\n",
            "Epoch [240/1000, Loss: 30.0067\n",
            "Epoch [250/1000, Loss: 36.6481\n",
            "Epoch [260/1000, Loss: 27.2978\n",
            "Epoch [270/1000, Loss: 17.4434\n",
            "Epoch [280/1000, Loss: 23.6493\n",
            "Epoch [290/1000, Loss: 22.6331\n",
            "Epoch [300/1000, Loss: 22.6886\n",
            "Epoch [310/1000, Loss: 28.5024\n",
            "Epoch [320/1000, Loss: 29.2135\n",
            "Epoch [330/1000, Loss: 22.8929\n",
            "Epoch [340/1000, Loss: 31.7774\n",
            "Epoch [350/1000, Loss: 16.2665\n",
            "Epoch [360/1000, Loss: 15.3435\n",
            "Epoch [370/1000, Loss: 26.2338\n",
            "Epoch [380/1000, Loss: 15.7947\n",
            "Epoch [390/1000, Loss: 21.4985\n",
            "Epoch [400/1000, Loss: 22.3423\n",
            "Epoch [410/1000, Loss: 11.7640\n",
            "Epoch [420/1000, Loss: 18.4401\n",
            "Epoch [430/1000, Loss: 10.5112\n",
            "Epoch [440/1000, Loss: 5.2119\n",
            "Epoch [450/1000, Loss: 9.5928\n",
            "Epoch [460/1000, Loss: 9.4157\n",
            "Epoch [470/1000, Loss: 11.7681\n",
            "Epoch [480/1000, Loss: 11.0373\n",
            "Epoch [490/1000, Loss: 11.0964\n",
            "Epoch [500/1000, Loss: 4.0178\n",
            "Epoch [510/1000, Loss: 10.1115\n",
            "Epoch [520/1000, Loss: 5.0495\n",
            "Epoch [530/1000, Loss: 5.9794\n",
            "Epoch [540/1000, Loss: 5.9906\n",
            "Epoch [550/1000, Loss: 7.6258\n",
            "Epoch [560/1000, Loss: 6.8411\n",
            "Epoch [570/1000, Loss: 6.8942\n",
            "Epoch [580/1000, Loss: 7.4739\n",
            "Epoch [590/1000, Loss: 1.0286\n",
            "Epoch [600/1000, Loss: 4.3206\n",
            "Epoch [610/1000, Loss: 3.8377\n",
            "Epoch [620/1000, Loss: 3.9102\n",
            "Epoch [630/1000, Loss: 2.2140\n",
            "Epoch [640/1000, Loss: 6.1800\n",
            "Epoch [650/1000, Loss: 1.9452\n",
            "Epoch [660/1000, Loss: 4.6952\n",
            "Epoch [670/1000, Loss: 2.7736\n",
            "Epoch [680/1000, Loss: 2.8155\n",
            "Epoch [690/1000, Loss: 4.2246\n",
            "Epoch [700/1000, Loss: 0.8788\n",
            "Epoch [710/1000, Loss: 2.5504\n",
            "Epoch [720/1000, Loss: 2.4726\n",
            "Epoch [730/1000, Loss: 0.6723\n",
            "Epoch [740/1000, Loss: 3.7612\n",
            "Epoch [750/1000, Loss: 2.0328\n",
            "Epoch [760/1000, Loss: 2.2033\n",
            "Epoch [770/1000, Loss: 2.9378\n",
            "Epoch [780/1000, Loss: 1.8578\n",
            "Epoch [790/1000, Loss: 1.7936\n",
            "Epoch [800/1000, Loss: 0.9790\n",
            "Epoch [810/1000, Loss: 2.5917\n",
            "Epoch [820/1000, Loss: 1.6069\n",
            "Epoch [830/1000, Loss: 0.7318\n",
            "Epoch [840/1000, Loss: 1.1454\n",
            "Epoch [850/1000, Loss: 1.2204\n",
            "Epoch [860/1000, Loss: 1.3616\n",
            "Epoch [870/1000, Loss: 0.7302\n",
            "Epoch [880/1000, Loss: 1.3735\n",
            "Epoch [890/1000, Loss: 1.8678\n",
            "Epoch [900/1000, Loss: 1.4923\n",
            "Epoch [910/1000, Loss: 1.0520\n",
            "Epoch [920/1000, Loss: 0.9648\n",
            "Epoch [930/1000, Loss: 1.6092\n",
            "Epoch [940/1000, Loss: 1.0776\n",
            "Epoch [950/1000, Loss: 0.8984\n",
            "Epoch [960/1000, Loss: 1.0649\n",
            "Epoch [970/1000, Loss: 1.0431\n",
            "Epoch [980/1000, Loss: 0.9991\n",
            "Epoch [990/1000, Loss: 1.2960\n",
            "Epoch [1000/1000, Loss: 1.3168\n"
          ],
          "name": "stdout"
        }
      ]
    },
    {
      "cell_type": "markdown",
      "metadata": {
        "id": "2xod1KktNaC1"
      },
      "source": [
        "Let's generate predictions using our model and verify that they're close to our targets.\r\n",
        "\r\n"
      ]
    },
    {
      "cell_type": "code",
      "metadata": {
        "colab": {
          "base_uri": "https://localhost:8080/"
        },
        "id": "l8Yq8MPUNOeE",
        "outputId": "c500ec53-771a-4bc6-9182-5c98701fe76b"
      },
      "source": [
        "#Generate Predictions\r\n",
        "preds = model(inputs)\r\n",
        "preds"
      ],
      "execution_count": 70,
      "outputs": [
        {
          "output_type": "execute_result",
          "data": {
            "text/plain": [
              "tensor([[ 57.2266,  70.3966],\n",
              "        [ 81.7737, 100.1684],\n",
              "        [119.6103, 133.8393],\n",
              "        [ 21.3431,  37.2527],\n",
              "        [101.0167, 118.1981],\n",
              "        [ 57.2266,  70.3966],\n",
              "        [ 81.7737, 100.1684],\n",
              "        [119.6103, 133.8393],\n",
              "        [ 21.3431,  37.2527],\n",
              "        [101.0167, 118.1981],\n",
              "        [ 57.2266,  70.3966],\n",
              "        [ 81.7737, 100.1684],\n",
              "        [119.6103, 133.8393],\n",
              "        [ 21.3431,  37.2527],\n",
              "        [101.0167, 118.1981]], grad_fn=<AddmmBackward>)"
            ]
          },
          "metadata": {
            "tags": []
          },
          "execution_count": 70
        }
      ]
    },
    {
      "cell_type": "code",
      "metadata": {
        "colab": {
          "base_uri": "https://localhost:8080/"
        },
        "id": "Z8P6j7XhNfuN",
        "outputId": "8c8ad52d-c33e-4c18-bf7f-8a0a437a7951"
      },
      "source": [
        "#Compare with Targets\r\n",
        "targets"
      ],
      "execution_count": 71,
      "outputs": [
        {
          "output_type": "execute_result",
          "data": {
            "text/plain": [
              "tensor([[ 56.,  70.],\n",
              "        [ 81., 101.],\n",
              "        [119., 133.],\n",
              "        [ 22.,  37.],\n",
              "        [103., 119.],\n",
              "        [ 56.,  70.],\n",
              "        [ 81., 101.],\n",
              "        [119., 133.],\n",
              "        [ 22.,  37.],\n",
              "        [103., 119.],\n",
              "        [ 56.,  70.],\n",
              "        [ 81., 101.],\n",
              "        [119., 133.],\n",
              "        [ 22.,  37.],\n",
              "        [103., 119.]])"
            ]
          },
          "metadata": {
            "tags": []
          },
          "execution_count": 71
        }
      ]
    },
    {
      "cell_type": "markdown",
      "metadata": {
        "id": "uzpup-hxN4gd"
      },
      "source": [
        "Indeed, the predictions are quite close to our targets. We have a trained a reasonably good model to predict crop yields for apples and oranges by looking at the average temperature, rainfall, and humidity in a region. We can use it to make predictions of crop yields for new regions by passing a batch containing a single row of input."
      ]
    },
    {
      "cell_type": "code",
      "metadata": {
        "colab": {
          "base_uri": "https://localhost:8080/"
        },
        "id": "VJQuGRzfNvi6",
        "outputId": "c04fd90d-e324-4fe4-9aaf-b02a55622079"
      },
      "source": [
        "#General Prediction\r\n",
        "model(torch.tensor([[75, 63, 44.]]))"
      ],
      "execution_count": 72,
      "outputs": [
        {
          "output_type": "execute_result",
          "data": {
            "text/plain": [
              "tensor([[53.5990, 67.3947]], grad_fn=<AddmmBackward>)"
            ]
          },
          "metadata": {
            "tags": []
          },
          "execution_count": 72
        }
      ]
    }
  ]
}